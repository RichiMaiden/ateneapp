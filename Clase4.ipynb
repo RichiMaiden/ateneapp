{
  "nbformat": 4,
  "nbformat_minor": 0,
  "metadata": {
    "colab": {
      "provenance": [],
      "authorship_tag": "ABX9TyMNIQa9FKoycjO4NuSYaP7h",
      "include_colab_link": true
    },
    "kernelspec": {
      "name": "python3",
      "display_name": "Python 3"
    },
    "language_info": {
      "name": "python"
    }
  },
  "cells": [
    {
      "cell_type": "markdown",
      "metadata": {
        "id": "view-in-github",
        "colab_type": "text"
      },
      "source": [
        "<a href=\"https://colab.research.google.com/github/RichiMaiden/ateneapp/blob/main/Clase4.ipynb\" target=\"_parent\"><img src=\"https://colab.research.google.com/assets/colab-badge.svg\" alt=\"Open In Colab\"/></a>"
      ]
    },
    {
      "cell_type": "code",
      "execution_count": 1,
      "metadata": {
        "colab": {
          "base_uri": "https://localhost:8080/",
          "height": 35
        },
        "id": "fckkBQ91YRbT",
        "outputId": "74ee18e0-de68-4db2-f1c2-96645ac59a63"
      },
      "outputs": [
        {
          "output_type": "execute_result",
          "data": {
            "text/plain": [
              "'Mi primera cadena en Python'"
            ],
            "application/vnd.google.colaboratory.intrinsic+json": {
              "type": "string"
            }
          },
          "metadata": {},
          "execution_count": 1
        }
      ],
      "source": [
        "'Mi primera cadena en Python'"
      ]
    },
    {
      "cell_type": "markdown",
      "source": [
        "Comillas triples\n",
        "\n",
        "Hay una forma alternativa de crear cadenas de texto utilizando comillas triples. Su uso está\n",
        "pensado principalmente para cadenas multilínea:\n"
      ],
      "metadata": {
        "id": "3GpjYjx2ZEKi"
      }
    },
    {
      "cell_type": "code",
      "source": [
        "poema = ''' Puedo escribir los versos mas tristes esta noche, escribir por ejemplo que el cielo esta \n",
        "estrellado...............\n",
        ".......\n",
        "'''"
      ],
      "metadata": {
        "id": "h63wIN_7ZREL"
      },
      "execution_count": 2,
      "outputs": []
    },
    {
      "cell_type": "code",
      "source": [
        "print (poema)"
      ],
      "metadata": {
        "colab": {
          "base_uri": "https://localhost:8080/"
        },
        "id": "OGawqmjGZlmO",
        "outputId": "862db34a-08de-460d-fdfe-dfeb1860fe15"
      },
      "execution_count": 3,
      "outputs": [
        {
          "output_type": "stream",
          "name": "stdout",
          "text": [
            " Puedo escribir los versos mas tristes esta noche, escribir por ejemplo que el cielo esta \n",
            "estrellado...............\n",
            ".......\n",
            "\n"
          ]
        }
      ]
    },
    {
      "cell_type": "code",
      "source": [
        "#Saldo de Linea\n",
        "msg = 'Primera linea \\nSegunda linea \\nTercera linea'"
      ],
      "metadata": {
        "id": "Jf76BGLiaFss"
      },
      "execution_count": 6,
      "outputs": []
    },
    {
      "cell_type": "code",
      "source": [
        "print(msg)"
      ],
      "metadata": {
        "colab": {
          "base_uri": "https://localhost:8080/"
        },
        "id": "202Gp6Vvanxq",
        "outputId": "29589621-8f26-4ad1-80fd-cc39a32540d9"
      },
      "execution_count": 7,
      "outputs": [
        {
          "output_type": "stream",
          "name": "stdout",
          "text": [
            "Primera linea \n",
            "Segunda linea \n",
            "Tercera linea\n"
          ]
        }
      ]
    },
    {
      "cell_type": "code",
      "source": [
        "nombre = input('Introduzca su nombre: ')\n",
        "print ('Bienvenido', nombre)"
      ],
      "metadata": {
        "colab": {
          "base_uri": "https://localhost:8080/"
        },
        "id": "GXwgZE-9csUZ",
        "outputId": "a878394e-ed19-466e-c8b7-641dafbc3136"
      },
      "execution_count": 8,
      "outputs": [
        {
          "output_type": "stream",
          "name": "stdout",
          "text": [
            "Introduzca su nombre: Ricardo\n",
            "Bienvenido Ricardo\n"
          ]
        }
      ]
    },
    {
      "cell_type": "code",
      "source": [
        "type(nombre)"
      ],
      "metadata": {
        "colab": {
          "base_uri": "https://localhost:8080/"
        },
        "id": "WeuYmBrqdoma",
        "outputId": "3177597b-c2a2-422d-b827-50508c2e8294"
      },
      "execution_count": 9,
      "outputs": [
        {
          "output_type": "execute_result",
          "data": {
            "text/plain": [
              "str"
            ]
          },
          "metadata": {},
          "execution_count": 9
        }
      ]
    },
    {
      "cell_type": "code",
      "source": [
        "type(False)"
      ],
      "metadata": {
        "colab": {
          "base_uri": "https://localhost:8080/"
        },
        "id": "pJzBvLxod5Qt",
        "outputId": "fef0d611-10e9-4195-9f4f-4177660c0ad8"
      },
      "execution_count": 11,
      "outputs": [
        {
          "output_type": "execute_result",
          "data": {
            "text/plain": [
              "bool"
            ]
          },
          "metadata": {},
          "execution_count": 11
        }
      ]
    },
    {
      "cell_type": "markdown",
      "source": [
        "###Crear un programa que pida al usuario su nombre, edad, estatura y peso. Con los valores introducidos calcular el índice de masa muscular del usuario."
      ],
      "metadata": {
        "id": "Fuzq0f2eeXVU"
      }
    },
    {
      "cell_type": "code",
      "source": [
        "estatura= (float (input(\"Introduce su estatura\")))"
      ],
      "metadata": {
        "id": "6MJ_hXBYfAdX"
      },
      "execution_count": null,
      "outputs": []
    },
    {
      "cell_type": "code",
      "source": [
        "2**2"
      ],
      "metadata": {
        "colab": {
          "base_uri": "https://localhost:8080/"
        },
        "id": "XmoKkVNVgCx-",
        "outputId": "d14e32d8-f067-4f3e-cf1d-8d0453b66cbc"
      },
      "execution_count": 13,
      "outputs": [
        {
          "output_type": "execute_result",
          "data": {
            "text/plain": [
              "4"
            ]
          },
          "metadata": {},
          "execution_count": 13
        }
      ]
    },
    {
      "cell_type": "markdown",
      "source": [
        "Peso inferior al normal = Menos de 18.5\n",
        "Peso superior al normal = 25.0 - 29.9\n",
        "Obesidad                = Más de 30.0"
      ],
      "metadata": {
        "id": "AIi_leyxnoTL"
      }
    },
    {
      "cell_type": "code",
      "source": [
        "print?\n"
      ],
      "metadata": {
        "id": "mWhlHawUoBSc"
      },
      "execution_count": 19,
      "outputs": []
    },
    {
      "cell_type": "code",
      "source": [
        "l"
      ],
      "metadata": {
        "id": "KK-UJPiNwisr"
      },
      "execution_count": null,
      "outputs": []
    },
    {
      "cell_type": "code",
      "source": [
        "nd imc <"
      ],
      "metadata": {
        "id": "CZa_BpS4wznB"
      },
      "execution_count": null,
      "outputs": []
    },
    {
      "cell_type": "code",
      "source": [
        "nombre = input('Introduzca su nombre: ')\n",
        "print ('Bienvenido ',nombre)\n",
        "edad = (int (input('Íntroduzca su edad')))\n",
        "estatura = (float (input('Introduzca su estatura en metros: ')))\n",
        "peso = (float (input ('Introduzca SU PESO en kilogramos: ')))\n",
        "imc = peso / estatura ** 2\n",
        "if imc < 18.5:\n",
        "  print('su imc <ndice de masa muscular es',imc,' kg/m². \\nY es inferior a lo normal')\n",
        "elif imc >= 18.5 and imc < 25.0:\n",
        "  print('su imc <ndice de masa muscular es',imc,' kg/m². \\nEs ideal')\n",
        "elif imc >= 25.0 and imc < 30.0:\n",
        "  print('su imc <ndice de masa muscular es',imc,' kg/m². \\nY es superior a lo normal')\n",
        "else:\n",
        "  print('su imc <ndice de masa muscular es',imc,' kg/m². \\nUsted tiene obesidad')"
      ],
      "metadata": {
        "colab": {
          "base_uri": "https://localhost:8080/"
        },
        "id": "R1lVns-Duni9",
        "outputId": "5f5c470c-afa9-49cc-a8eb-751ec55feefb"
      },
      "execution_count": 22,
      "outputs": [
        {
          "output_type": "stream",
          "name": "stdout",
          "text": [
            "Introduzca su nombre: menganito\n",
            "Bienvenido  menganito\n",
            "Íntroduzca su edad15\n",
            "Introduzca su estatura en metros: 1.50\n",
            "Introduzca SU PESO en kilogramos: 90\n",
            "su imc <ndice de masa muscular es 40.0  kg/m². \n",
            "Usted tiene obesidad\n"
          ]
        }
      ]
    }
  ]
}