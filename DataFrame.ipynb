{
  "nbformat": 4,
  "nbformat_minor": 0,
  "metadata": {
    "colab": {
      "provenance": [],
      "authorship_tag": "ABX9TyOlR9BF/1f0aOjWED+KqDkx",
      "include_colab_link": true
    },
    "kernelspec": {
      "name": "python3",
      "display_name": "Python 3"
    },
    "language_info": {
      "name": "python"
    }
  },
  "cells": [
    {
      "cell_type": "markdown",
      "metadata": {
        "id": "view-in-github",
        "colab_type": "text"
      },
      "source": [
        "<a href=\"https://colab.research.google.com/github/RichiMaiden/ateneapp/blob/main/DataFrame.ipynb\" target=\"_parent\"><img src=\"https://colab.research.google.com/assets/colab-badge.svg\" alt=\"Open In Colab\"/></a>"
      ]
    },
    {
      "cell_type": "markdown",
      "source": [
        "# La clase de objetos DataFrame\n",
        "Un objeto del tipo DataFrame define un conjunto de datos estructurado en forma de tabla donde cada columna es un objeto de tipo Series, es decir, todos los datos de una misma columna son del mismo tipo, y las filas son registros que pueden contener datos de distintos tipos. \n",
        "\n",
        "Un DataFrame contiene dos índices, uno para las filas y otro para las columnas, y se puede acceder a sus elementos mediante los nombres de las filas y las columnas. \n",
        "\n",
        "Ejemplo: el siguiente DataFrame contiene información sobre los alumnos de un curso. Cada fila corresponde a un alumno y cada columna a una variable."
      ],
      "metadata": {
        "id": "YhwgWEwO---1"
      }
    },
    {
      "cell_type": "markdown",
      "source": [
        "## Creación de un DataFrame a partir de un diccionario de listas\n",
        "\n",
        "Para crear un DataFrame a partir de un diccionario cuyas claves son los nombres de las columnas y los valores son listas con los datos de las columnas se utiliza el método:\n",
        "\n",
        "DataFrame(data=diccionario, index=filas, columns=columnas, dtype=tipos): Devuelve un objeto del tipo DataFrame cuyas columnas son las listas contenidas en los valores del diccionario diccionario, los nombres de filas indicados en la lista filas, los nombres de columnas indicados en la lista columnas y los tipos indicados en la lista tipos. \n",
        "La lista filas tiene que tener el mismo tamaño que las listas del diccionario, mientras que las listas columnas y tipos tienen que tener el mismo tamaño que el diccionario. Si no se pasa la lista de filas se utilizan como nombres los enteros empezando en 0. Si no se pasa la lista de columnas se utilizan como nombres las claves del diccionario. Si no se pasa la lista de tipos, se infiere. "
      ],
      "metadata": {
        "id": "_qaAkvoA_Ueo"
      }
    },
    {
      "cell_type": "markdown",
      "source": [
        "*Tip: Los valores asociados a las claves del diccionario deben ser listas del mismo tamaño.*"
      ],
      "metadata": {
        "id": "btV0_QGR_zXN"
      }
    },
    {
      "cell_type": "code",
      "source": [
        "import pandas as pd\n",
        "datos =  {'nombre' :['Maria', 'Luis', 'Carmen', 'Antonio'],\n",
        "          'edad' : [18, 22, 20, 21],\n",
        "          'grado': ['Economia', 'Medicina', 'Arquitectura', 'Economia'],\n",
        "          'correo': ['maria@gmail.com', 'luis@yahoo.es', 'carmen@gmail.com', 'antonio@gmail.com']\n",
        "          }\n",
        "df = pd.DataFrame(datos)\n",
        "print(df)"
      ],
      "metadata": {
        "colab": {
          "base_uri": "https://localhost:8080/"
        },
        "id": "m0Lzb8rz_grC",
        "outputId": "b0a62cc5-172b-497f-ca1a-3816e1c53fe1"
      },
      "execution_count": 1,
      "outputs": [
        {
          "output_type": "stream",
          "name": "stdout",
          "text": [
            "    nombre  edad         grado             correo\n",
            "0    Maria    18      Economia    maria@gmail.com\n",
            "1     Luis    22      Medicina      luis@yahoo.es\n",
            "2   Carmen    20  Arquitectura   carmen@gmail.com\n",
            "3  Antonio    21      Economia  antonio@gmail.com\n"
          ]
        }
      ]
    }
  ]
}