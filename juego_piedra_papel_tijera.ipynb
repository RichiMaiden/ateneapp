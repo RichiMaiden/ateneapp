{
  "nbformat": 4,
  "nbformat_minor": 0,
  "metadata": {
    "colab": {
      "provenance": [],
      "authorship_tag": "ABX9TyPm7s10h2dDLNcKJOeJtbom",
      "include_colab_link": true
    },
    "kernelspec": {
      "name": "python3",
      "display_name": "Python 3"
    },
    "language_info": {
      "name": "python"
    }
  },
  "cells": [
    {
      "cell_type": "markdown",
      "metadata": {
        "id": "view-in-github",
        "colab_type": "text"
      },
      "source": [
        "<a href=\"https://colab.research.google.com/github/RichiMaiden/ateneapp/blob/main/juego_piedra_papel_tijera.ipynb\" target=\"_parent\"><img src=\"https://colab.research.google.com/assets/colab-badge.svg\" alt=\"Open In Colab\"/></a>"
      ]
    },
    {
      "cell_type": "code",
      "execution_count": 6,
      "metadata": {
        "colab": {
          "base_uri": "https://localhost:8080/",
          "height": 675
        },
        "id": "r7UXoNapMwgK",
        "outputId": "b5cf207c-a92e-4ddd-8e95-d8bbb94485f9"
      },
      "outputs": [
        {
          "output_type": "stream",
          "name": "stdout",
          "text": [
            "1. Piedra\n",
            "2. Papel\n",
            "3. Tijera\n",
            "Elige tu opción 1\n",
            "Elejiste:  Piedra\n",
            "La máquina elijio:  Papel\n",
            "...\n",
            "Perdiste, Papel envuelve Piedra\n",
            "Quieres jugar de nuevo (s/n): s\n",
            "1. Piedra\n",
            "2. Papel\n",
            "3. Tijera\n",
            "Elige tu opción 2\n",
            "Elejiste:  Papel\n",
            "La máquina elijio:  Tijera\n",
            "...\n",
            "Perdiste, Tijera corta Papel\n"
          ]
        },
        {
          "output_type": "error",
          "ename": "KeyboardInterrupt",
          "evalue": "ignored",
          "traceback": [
            "\u001b[0;31m---------------------------------------------------------------------------\u001b[0m",
            "\u001b[0;31mKeyboardInterrupt\u001b[0m                         Traceback (most recent call last)",
            "\u001b[0;32m<ipython-input-6-2047f8881316>\u001b[0m in \u001b[0;36m<cell line: 6>\u001b[0;34m()\u001b[0m\n\u001b[1;32m     44\u001b[0m     \u001b[0mprint\u001b[0m\u001b[0;34m(\u001b[0m\u001b[0;34m\"Empate\"\u001b[0m\u001b[0;34m)\u001b[0m\u001b[0;34m\u001b[0m\u001b[0;34m\u001b[0m\u001b[0m\n\u001b[1;32m     45\u001b[0m \u001b[0;34m\u001b[0m\u001b[0m\n\u001b[0;32m---> 46\u001b[0;31m   \u001b[0mplay_again\u001b[0m \u001b[0;34m=\u001b[0m \u001b[0minput\u001b[0m\u001b[0;34m(\u001b[0m\u001b[0;34m\"Quieres jugar de nuevo (s/n): \"\u001b[0m\u001b[0;34m)\u001b[0m\u001b[0;34m\u001b[0m\u001b[0;34m\u001b[0m\u001b[0m\n\u001b[0m\u001b[1;32m     47\u001b[0m \u001b[0;34m\u001b[0m\u001b[0m\n\u001b[1;32m     48\u001b[0m   \u001b[0;32mif\u001b[0m \u001b[0mplay_again\u001b[0m\u001b[0;34m.\u001b[0m\u001b[0mlower\u001b[0m\u001b[0;34m(\u001b[0m\u001b[0;34m)\u001b[0m \u001b[0;34m!=\u001b[0m \u001b[0;34m\"s\"\u001b[0m\u001b[0;34m:\u001b[0m\u001b[0;34m\u001b[0m\u001b[0;34m\u001b[0m\u001b[0m\n",
            "\u001b[0;32m/usr/local/lib/python3.10/dist-packages/ipykernel/kernelbase.py\u001b[0m in \u001b[0;36mraw_input\u001b[0;34m(self, prompt)\u001b[0m\n\u001b[1;32m    849\u001b[0m                 \u001b[0;34m\"raw_input was called, but this frontend does not support input requests.\"\u001b[0m\u001b[0;34m\u001b[0m\u001b[0;34m\u001b[0m\u001b[0m\n\u001b[1;32m    850\u001b[0m             )\n\u001b[0;32m--> 851\u001b[0;31m         return self._input_request(str(prompt),\n\u001b[0m\u001b[1;32m    852\u001b[0m             \u001b[0mself\u001b[0m\u001b[0;34m.\u001b[0m\u001b[0m_parent_ident\u001b[0m\u001b[0;34m,\u001b[0m\u001b[0;34m\u001b[0m\u001b[0;34m\u001b[0m\u001b[0m\n\u001b[1;32m    853\u001b[0m             \u001b[0mself\u001b[0m\u001b[0;34m.\u001b[0m\u001b[0m_parent_header\u001b[0m\u001b[0;34m,\u001b[0m\u001b[0;34m\u001b[0m\u001b[0;34m\u001b[0m\u001b[0m\n",
            "\u001b[0;32m/usr/local/lib/python3.10/dist-packages/ipykernel/kernelbase.py\u001b[0m in \u001b[0;36m_input_request\u001b[0;34m(self, prompt, ident, parent, password)\u001b[0m\n\u001b[1;32m    893\u001b[0m             \u001b[0;32mexcept\u001b[0m \u001b[0mKeyboardInterrupt\u001b[0m\u001b[0;34m:\u001b[0m\u001b[0;34m\u001b[0m\u001b[0;34m\u001b[0m\u001b[0m\n\u001b[1;32m    894\u001b[0m                 \u001b[0;31m# re-raise KeyboardInterrupt, to truncate traceback\u001b[0m\u001b[0;34m\u001b[0m\u001b[0;34m\u001b[0m\u001b[0m\n\u001b[0;32m--> 895\u001b[0;31m                 \u001b[0;32mraise\u001b[0m \u001b[0mKeyboardInterrupt\u001b[0m\u001b[0;34m(\u001b[0m\u001b[0;34m\"Interrupted by user\"\u001b[0m\u001b[0;34m)\u001b[0m \u001b[0;32mfrom\u001b[0m \u001b[0;32mNone\u001b[0m\u001b[0;34m\u001b[0m\u001b[0;34m\u001b[0m\u001b[0m\n\u001b[0m\u001b[1;32m    896\u001b[0m             \u001b[0;32mexcept\u001b[0m \u001b[0mException\u001b[0m \u001b[0;32mas\u001b[0m \u001b[0me\u001b[0m\u001b[0;34m:\u001b[0m\u001b[0;34m\u001b[0m\u001b[0;34m\u001b[0m\u001b[0m\n\u001b[1;32m    897\u001b[0m                 \u001b[0mself\u001b[0m\u001b[0;34m.\u001b[0m\u001b[0mlog\u001b[0m\u001b[0;34m.\u001b[0m\u001b[0mwarning\u001b[0m\u001b[0;34m(\u001b[0m\u001b[0;34m\"Invalid Message:\"\u001b[0m\u001b[0;34m,\u001b[0m \u001b[0mexc_info\u001b[0m\u001b[0;34m=\u001b[0m\u001b[0;32mTrue\u001b[0m\u001b[0;34m)\u001b[0m\u001b[0;34m\u001b[0m\u001b[0;34m\u001b[0m\u001b[0m\n",
            "\u001b[0;31mKeyboardInterrupt\u001b[0m: Interrupted by user"
          ]
        }
      ],
      "source": [
        "'''Juego de Piedra, Pape y Tijera; se usa la biblioteca random y el usuario va elijiendo las opciones, mientras\n",
        "que la PC tambien elige su opción'''\n",
        "\n",
        "import random\n",
        "\n",
        "while True:\n",
        "\n",
        "  aleatorio = random.randrange(0, 3) # se elige 3 valores\n",
        "  elijePc= \"\"\n",
        "  print(\"1. Piedra\")\n",
        "  print(\"2. Papel\")\n",
        "  print(\"3. Tijera\")\n",
        "  opcion = int(input(\"Elige tu opción \"))\n",
        "\n",
        "  if opcion == 1:\n",
        "    elijeUsuario = \"Piedra\"\n",
        "  elif opcion == 2:\n",
        "    elijeUsuario = \"Papel\"\n",
        "  elif opcion == 3:\n",
        "    elijeUsuario = \"Tijera\"\n",
        "  print(\"Elejiste: \", elijeUsuario)\n",
        "\n",
        "  if aleatorio == 0:\n",
        "    elijePc = \"Piedra\"\n",
        "  elif aleatorio ==1:\n",
        "    elijePc = \"Papel\"\n",
        "  elif aleatorio == 2:\n",
        "    elijePc = \"Tijera\"\n",
        "  print(\"La máquina elijio: \", elijePc)\n",
        "  print(\"...\")\n",
        "  if elijePc == \"Piedra\" and elijeUsuario == \"Papel\":\n",
        "    print(\"Ganaste, papel envuelve Piedra\")\n",
        "  elif elijePc == \"Papel\" and elijeUsuario == \"Tijera\":\n",
        "    print(\"Ganaste, Tijera corta Papel\")\n",
        "  elif elijePc == \"Tijera\" and elijeUsuario == \"Piedra\":\n",
        "    print(\"Ganaste, Piedra machaca Tijera\")\n",
        "  if elijePc == \"Papel\" and elijeUsuario == \"Piedra\":\n",
        "    print(\"Perdiste, Papel envuelve Piedra\")\n",
        "  elif elijePc == \"Tijera\" and elijeUsuario == \"Papel\":\n",
        "    print(\"Perdiste, Tijera corta Papel\")\n",
        "  elif elijePc == \"Piedra\" and elijeUsuario == \"Tijera\":\n",
        "    print(\"Perdiste, Piedra machaca Tijera\")\n",
        "  elif elijePc == elijeUsuario:\n",
        "    print(\"Empate\")\n",
        "\n",
        "  play_again = input(\"Quieres jugar de nuevo (s/n): \")\n",
        "\n",
        "  if play_again.lower() != \"s\":\n",
        "    break\n",
        "\n",
        "\n",
        "\n",
        "\n",
        "\n",
        "\n",
        "\n"
      ]
    }
  ]
}