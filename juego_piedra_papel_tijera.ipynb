{
  "nbformat": 4,
  "nbformat_minor": 0,
  "metadata": {
    "colab": {
      "provenance": [],
      "authorship_tag": "ABX9TyPm7s10h2dDLNcKJOeJtbom",
      "include_colab_link": true
    },
    "kernelspec": {
      "name": "python3",
      "display_name": "Python 3"
    },
    "language_info": {
      "name": "python"
    }
  },
  "cells": [
    {
      "cell_type": "markdown",
      "metadata": {
        "id": "view-in-github",
        "colab_type": "text"
      },
      "source": [
        "<a href=\"https://colab.research.google.com/github/RichiMaiden/ateneapp/blob/main/juego_piedra_papel_tijera.ipynb\" target=\"_parent\"><img src=\"https://colab.research.google.com/assets/colab-badge.svg\" alt=\"Open In Colab\"/></a>"
      ]
    },
    {
      "cell_type": "code",
      "execution_count": null,
      "metadata": {
        "colab": {
          "base_uri": "https://localhost:8080/"
        },
        "id": "r7UXoNapMwgK",
        "outputId": "a6ff180f-4490-4e40-adaf-591d8b85f657"
      },
      "outputs": [
        {
          "output_type": "stream",
          "name": "stdout",
          "text": [
            "1. Piedra\n",
            "2. Papel\n",
            "3. Tijera\n"
          ]
        }
      ],
      "source": [
        "'''Juego de Piedra, Pape y Tijera; se usa la biblioteca random y el usuario va elijiendo las opciones, mientras\n",
        "que la PC tambien elige su opción'''\n",
        "\n",
        "import random\n",
        "\n",
        "while True:\n",
        "\n",
        "  aleatorio = random.randrange(0, 3) # se elige 3 valores\n",
        "  elijePc= \"\"\n",
        "  print(\"1. Piedra\")\n",
        "  print(\"2. Papel\")\n",
        "  print(\"3. Tijera\")\n",
        "  opcion = int(input(\"Elige tu opción \"))\n",
        "\n",
        "  if opcion == 1:\n",
        "    elijeUsuario = \"Piedra\"\n",
        "  elif opcion == 2:\n",
        "    elijeUsuario = \"Papel\"\n",
        "  elif opcion == 3:\n",
        "    elijeUsuario = \"Tijera\"\n",
        "  print(\"Elejiste: \", elijeUsuario)\n",
        "\n",
        "  if aleatorio == 0:\n",
        "    elijePc = \"Piedra\"\n",
        "  elif aleatorio ==1:\n",
        "    elijePc = \"Papel\"\n",
        "  elif aleatorio == 2:\n",
        "    elijePc = \"Tijera\"\n",
        "  print(\"La máquina elijio: \", elijePc)\n",
        "  print(\"...\")\n",
        "  if elijePc == \"Piedra\" and elijeUsuario == \"Papel\":\n",
        "    print(\"Ganaste, papel envuelve Piedra\")\n",
        "  elif elijePc == \"Papel\" and elijeUsuario == \"Tijera\":\n",
        "    print(\"Ganaste, Tijera corta Papel\")\n",
        "  elif elijePc == \"Tijera\" and elijeUsuario == \"Piedra\":\n",
        "    print(\"Ganaste, Piedra machaca Tijera\")\n",
        "  if elijePc == \"Papel\" and elijeUsuario == \"Piedra\":\n",
        "    print(\"Perdiste, Papel envuelve Piedra\")\n",
        "  elif elijePc == \"Tijera\" and elijeUsuario == \"Papel\":\n",
        "    print(\"Perdiste, Tijera corta Papel\")\n",
        "  elif elijePc == \"Piedra\" and elijeUsuario == \"Tijera\":\n",
        "    print(\"Perdiste, Piedra machaca Tijera\")\n",
        "  elif elijePc == elijeUsuario:\n",
        "    print(\"Empate\")\n",
        "\n",
        "  play_again = input(\"Quieres jugar de nuevo (s/n): \")\n",
        "\n",
        "  if play_again.lower() != \"s\":\n",
        "    break\n",
        "\n",
        "\n",
        "\n",
        "\n",
        "\n",
        "\n",
        "\n"
      ]
    }
  ]
}